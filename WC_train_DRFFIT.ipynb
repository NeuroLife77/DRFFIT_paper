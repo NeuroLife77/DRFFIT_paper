{
 "cells": [
  {
   "cell_type": "code",
   "execution_count": null,
   "id": "b3f0658f",
   "metadata": {},
   "outputs": [],
   "source": [
    "import numpy as np\n",
    "import torch\n",
    "from torch import nn\n",
    "import pickle as pkl\n",
    "from lib.utils import *\n",
    "from lib.drffit.uniform_sampler import uniform_around_sampler as uniform_sampler\n",
    "from lib.Wilson_Cowan.parameters_info import parameters_alpha_peak, parameters_range_bounds, parameters_lower_bound\n",
    "theta_min = parameters_lower_bound\n",
    "theta_range = parameters_range_bounds\n",
    "from lib.Feature_extraction.AE import *\n",
    "from lib.Feature_extraction.PCA_features import *\n",
    "from lib.drffit.subspace_estimator import *\n",
    "from lib.drffit.drffit import *\n",
    "set_mpl()\n",
    "def norm_pars(pars):\n",
    "    return (pars - theta_min) / theta_range\n",
    "def denorm_pars(pars):\n",
    "    return (pars * theta_range) + theta_min\n",
    "rescale_plot = 1.0\n",
    "use_log = False\n",
    "from scipy.stats import gaussian_kde\n",
    "def correlation_reconstruction(original,reconstructed):\n",
    "    cos = torch.nn.CosineSimilarity(dim=1, eps=1e-8)\n",
    "    pearson = cos(original - original.mean(dim=1,keepdim=True),reconstructed - reconstructed.mean(dim=1,keepdim=True))\n",
    "    return pearson.numpy()\n",
    "def rec_gof_density(testing_x, reconstructed, name = 'default', reconstructed_SE = None, figsize = (10,8), x_lim = [0.0,1.0], labels = []):\n",
    "    reconstructed_gof = correlation_reconstruction(testing_x, reconstructed)\n",
    "    x = np.linspace(x_lim[0],x_lim[1],500)\n",
    "    f = plt.figure(figsize = figsize)\n",
    "    ax = plt.subplot(1,1,1)\n",
    "    plt.plot(x,gaussian_kde(reconstructed_gof)(x), '-k', lw= 1.0, label = f'Feature fn')\n",
    "    if reconstructed_SE is not None:\n",
    "        if type(reconstructed_SE) == type([]):\n",
    "            if labels is None:\n",
    "                labels = [i for i in range(len(reconstructed_SE))]\n",
    "            for i, reconstructed_SE_item in enumerate(reconstructed_SE):\n",
    "                reconstructed_gof_SE = correlation_reconstruction(testing_x, reconstructed_SE_item)\n",
    "                plt.plot(x,gaussian_kde(reconstructed_gof_SE)(x), f'-C{i}', lw= 1.0, label = f'{labels[i]}')\n",
    "        else:    \n",
    "            reconstructed_gof_SE = correlation_reconstruction(testing_x, reconstructed_SE)\n",
    "            plt.plot(x,gaussian_kde(reconstructed_gof_SE)(x), '-r', lw= 1.0, label = f'SE')\n",
    "    plt.legend(**{'ncol': 1,'prop':{'size':10}})\n",
    "    plt.xlabel('Correlation value')\n",
    "    plt.ylabel('Density')\n",
    "    plt.title(f'{name} reconstruction Goodness of Fit')\n",
    "    plt.grid(True, linestyle = '--')\n",
    "    plt.tight_layout()\n",
    "    plt.show()"
   ]
  },
  {
   "cell_type": "markdown",
   "id": "4e6a2f63",
   "metadata": {},
   "source": [
    "# Load Training Data"
   ]
  },
  {
   "cell_type": "code",
   "execution_count": null,
   "id": "2f575e46",
   "metadata": {
    "scrolled": true
   },
   "outputs": [],
   "source": [
    "from os import walk\n",
    "glob_data_path = '../Data/WC/initialization/'\n",
    "DRFFIT_path = '../Data/WC/initialization/DRFFIT_objects/'\n",
    "sub_dir = glob_data_path\n",
    "list_of_init_data = []\n",
    "for (dirpath, dirnames, filenames) in walk(glob_data_path):\n",
    "    for i, file_n in enumerate(filenames):\n",
    "        if 'DRFFIT' not in file_n:\n",
    "            list_of_init_data.append(file_n[:-4])\n",
    "list_of_init_data.sort()\n",
    "print(list_of_init_data)"
   ]
  },
  {
   "cell_type": "code",
   "execution_count": null,
   "id": "2b0cb897",
   "metadata": {},
   "outputs": [],
   "source": [
    "data_file_name = list_of_init_data[0]\n",
    "DRFFIT_file_name = data_file_name+'_DRFFIT'\n",
    "print(sub_dir+data_file_name)\n",
    "train_data_log = get_log(sub_dir,data_file_name)\n",
    "data_info(train_data_log)\n"
   ]
  },
  {
   "cell_type": "code",
   "execution_count": null,
   "id": "78adda7f",
   "metadata": {},
   "outputs": [],
   "source": [
    "rescale_individually = True\n",
    "train_x_all_freq = train_data_log['data']['x']\n",
    "train_theta = train_data_log['data']['theta']\n",
    "print(f'DRFFIT data all full range: \\tx: {train_x_all_freq.shape}\\t theta: {train_theta.shape}')\n",
    "print(train_x_all_freq.amax(1).shape)"
   ]
  },
  {
   "cell_type": "markdown",
   "id": "ac02dc29",
   "metadata": {},
   "source": [
    "## Define frequency range and log scale (if used)"
   ]
  },
  {
   "cell_type": "code",
   "execution_count": null,
   "id": "25a6a39f",
   "metadata": {},
   "outputs": [],
   "source": [
    "frequency_range = [4,160]\n",
    "freq = [0.5*i for i in range(frequency_range[0],frequency_range[1])]\n",
    "train_x = train_x_all_freq[:,frequency_range[0]:frequency_range[1]].float()\n",
    "train_x /= torch.amax(train_x,1).view(-1,1)\n",
    "print(f'DRFFIT data max: \\tx: {train_x.amax()}')"
   ]
  },
  {
   "cell_type": "markdown",
   "id": "95e7f912",
   "metadata": {},
   "source": [
    "## Shuffle data before providing to DRFFIT"
   ]
  },
  {
   "cell_type": "code",
   "execution_count": null,
   "id": "1b5f88b4",
   "metadata": {},
   "outputs": [],
   "source": [
    "train_indices = np.arange(0, train_x.shape[0])\n",
    "np.random.shuffle(train_indices)\n",
    "train_indices = torch.as_tensor(train_indices, dtype=int)\n",
    "train_x, train_theta = train_x[train_indices], train_theta[train_indices]\n",
    "print(f'DRFFIT data: \\tx: {train_x.shape}\\t theta: {train_theta.shape}')"
   ]
  },
  {
   "cell_type": "markdown",
   "id": "9c3a58e2",
   "metadata": {},
   "source": [
    "# Create and initialize DRFFIT"
   ]
  },
  {
   "cell_type": "code",
   "execution_count": null,
   "id": "b3db59e3",
   "metadata": {},
   "outputs": [],
   "source": [
    "DRFFIT_objects_path = DRFFIT_path\n",
    "\n",
    "num_features = 5\n",
    "device = 'cuda'\n",
    "\n",
    "# Initialize drffit object\n",
    "drffit = DRFFIT(train_theta.shape[1], train_x.shape[1], theta_min, theta_range)\n",
    "\n",
    "# Add dataset to the DRFFIT object\n",
    "drffit.add_data(train_x, theta=train_theta)\n",
    "#drffit.initialize_subspace_estimator()\n",
    "#drffit.initialize_subspace_estimator(\"PCA\")"
   ]
  },
  {
   "cell_type": "markdown",
   "id": "40c4fc50",
   "metadata": {},
   "source": [
    "## PCA function"
   ]
  },
  {
   "cell_type": "code",
   "execution_count": null,
   "id": "98a69966",
   "metadata": {},
   "outputs": [],
   "source": [
    "# PCA\n",
    "pca = PCA_features(num_features)\n",
    "drffit.add_custom_fn(pca, pca.num_features,\"PCA\")\n",
    "drffit.train_feature_fn(name = \"PCA\")\n",
    "PCA_fn = drffit.feature_fn['PCA']['fn']"
   ]
  },
  {
   "cell_type": "code",
   "execution_count": null,
   "id": "a92e70dc",
   "metadata": {
    "scrolled": false
   },
   "outputs": [],
   "source": [
    "testing_x = train_x\n",
    "PCA_true = ensure_numpy(PCA_fn.feature_fn(testing_x))\n",
    "reconstructed_train_x_PCA = ensure_numpy(PCA_fn.pca_model.inverse_transform(PCA_true))\n",
    "testing_x = ensure_numpy(testing_x)\n",
    "plot_fn_reconstruction(testing_x,reconstructed_train_x_PCA, freq = freq, rescale_plot = rescale_plot, use_log = use_log)\n",
    "rec_gof_density(ensure_torch(testing_x), ensure_torch(reconstructed_train_x_PCA), name = 'PCA', reconstructed_SE = None, figsize = (10,8), x_lim = [0.95,1])"
   ]
  },
  {
   "cell_type": "markdown",
   "id": "839431df",
   "metadata": {},
   "source": [
    "## PCA Subspace Estimator"
   ]
  },
  {
   "cell_type": "code",
   "execution_count": null,
   "id": "1085cc4f",
   "metadata": {},
   "outputs": [],
   "source": [
    "architectures = [\n",
    "    [[50, 50, 50], True, nn.SiLU(), 0.00025],\n",
    "    [[50, 50, 50], True, nn.SiLU(), 0.0001],\n",
    "    [[50, 50, 50], True, nn.SiLU(), 0.00005],\n",
    "    #[[50, 50, 50], True, nn.SiLU()],\n",
    "    #[[100, 100], True, nn.SiLU()],\n",
    "    #[[100, 50, 50], True, nn.SiLU()],\n",
    "    #[[100, 100, 100], True, nn.SiLU()],\n",
    "    #[[100, 100, 100, 50], True, nn.SiLU()],\n",
    "    #[[100, 100, 100, 50, 50], True, nn.SiLU()],\n",
    "    #[[100, 100, 100, 50, 50, 50], True, nn.SiLU()],\n",
    "]\n",
    "for i, hyperpar in enumerate(architectures):\n",
    "    PCA_SE_norm_features = False\n",
    "    PCA_SE_name = f\"PCA0_{i}\"\n",
    "    print(PCA_SE_name+':')\n",
    "    drffit.initialize_subspace_estimator(PCA_SE_name)\n",
    "    architecture = {\n",
    "        'units':hyperpar[0],\n",
    "        'skip_connection':hyperpar[1],\n",
    "\n",
    "    }\n",
    "\n",
    "    drffit.uniform_add_feature_fn_to_subspace_estimator(\n",
    "\n",
    "                                                        subspace_estimator_name=PCA_SE_name,\n",
    "                                                        feature_fn_name=\"PCA\",\n",
    "                                                        device = 'cuda',\n",
    "                                                        combine = True,\n",
    "                                                        enforce_replace = True,\n",
    "                                                        architecture = architecture,\n",
    "                                                        activation_fn = hyperpar[2],\n",
    "\n",
    "    )\n",
    "\n",
    "    drffit.set_feature_data_of_subspace_estimator(\n",
    "\n",
    "                                                        subspace_estimator_name=PCA_SE_name,\n",
    "                                                        norm_features = PCA_SE_norm_features,\n",
    "                                                        split = [0.8,1.0],\n",
    "                                                        overwrite_data = True\n",
    "\n",
    "    )\n",
    "    val_history = drffit.train_all_nets_from_subspace_estimator(\n",
    "\n",
    "                                                    name = PCA_SE_name,\n",
    "                                                    epochs = 5000, batch_size = 32,\n",
    "                                                    lr = hyperpar[3], scheduler_kwargs = {'gamma' : 0.5, 'step_size' : 75},\n",
    "                                                    weight_decay = 0.0005, clip_max_norm = 1.0, amsgrad = False,\n",
    "                                                    patience = 25, multi_reset = 1, threshold_gain = 0.1,\n",
    "                                                    print_rate = 1, verbose = 1,\n",
    "                                                    enforce_replace=False, skip_trained=False,\n",
    "                                                    return_val = True, rescale_loss = 10000.0,\n",
    "\n",
    "    )"
   ]
  },
  {
   "cell_type": "code",
   "execution_count": null,
   "id": "e82ceb69",
   "metadata": {},
   "outputs": [],
   "source": [
    "#plot_train_loss(val_history[0], cutoff = 1, use_logscale = True)"
   ]
  },
  {
   "cell_type": "code",
   "execution_count": null,
   "id": "72d6ed6a",
   "metadata": {
    "scrolled": false
   },
   "outputs": [],
   "source": [
    "labels = []\n",
    "reconstructed_SE_PCAs = []\n",
    "for SE in drffit.subspace_estimator:\n",
    "    if (\"PCA0\" in SE and '_' in SE) or ('PCA0_0' in SE):\n",
    "        print(SE)\n",
    "        labels.append(SE)\n",
    "        se_PCA = drffit.subspace_estimator[SE]['subspace_estimator']\n",
    "        testing_x = ensure_numpy(testing_x)\n",
    "        PCA_test = ensure_numpy(torch.cat([se_PCA.net_list[i](ensure_torch(norm_pars(train_theta)).to(device)) for i in range(len(se_PCA.net_list))],dim = 1))\n",
    "        if PCA_SE_norm_features:\n",
    "            PCA_test = ((PCA_test + ensure_numpy(se_PCA.feature_mean)) * ensure_numpy(se_PCA.feature_std))\n",
    "        reconstructed_SE_PCA = ensure_numpy(PCA_fn.pca_model.inverse_transform(PCA_test))\n",
    "        plot_fn_reconstruction(testing_x, reconstructed_train_x_PCA, reconstructed_SE = reconstructed_SE_PCA, freq = freq, rescale_plot = rescale_plot, use_log = use_log)\n",
    "        reconstructed_SE_PCAt = ensure_torch(PCA_fn.pca_model.inverse_transform(PCA_test))\n",
    "        reconstructed_SE_PCAs.append(reconstructed_SE_PCAt)\n",
    "rec_gof_density(ensure_torch(testing_x), ensure_torch(reconstructed_train_x_PCA), name = 'PCA', reconstructed_SE = reconstructed_SE_PCAs, figsize = (10,6), x_lim = [0.90,1], labels = labels)"
   ]
  },
  {
   "cell_type": "code",
   "execution_count": null,
   "id": "f563072d",
   "metadata": {},
   "outputs": [],
   "source": [
    "print(DRFFIT_objects_path,DRFFIT_file_name)\n",
    "from os import makedirs\n",
    "makedirs(DRFFIT_objects_path, exist_ok = True)\n",
    "save_SE_PCA = True\n",
    "if save_SE_PCA:\n",
    "    drffit.save_SE_as_log(\n",
    "            model_path = DRFFIT_objects_path,\n",
    "            file_name = DRFFIT_file_name+f'_SE_PCA{num_features}LD',\n",
    "            name = \"PCA0_0\",\n",
    "            enforce_replace = False,\n",
    "   )"
   ]
  },
  {
   "cell_type": "markdown",
   "id": "922f1800",
   "metadata": {},
   "source": [
    "## Autoencoder function"
   ]
  },
  {
   "cell_type": "code",
   "execution_count": null,
   "id": "ac3c4ed8",
   "metadata": {},
   "outputs": [],
   "source": [
    "architectures = [\n",
    "    [[25], nn.SiLU(), 0.0025],\n",
    "    #[[25], nn.SiLU(), 0.00125],\n",
    "    #[[25], nn.SiLU(), 0.0005],\n",
    "    #[[25], nn.SiLU(), 0.00025],\n",
    "    #[[1000], nn.PReLU(), 0.00025],\n",
    "    #[[500,50], nn.SiLU(), 0.00025],\n",
    "   # [[500,50], nn.PReLU(), 0.00025],    \n",
    "]\n",
    "for i, hyperpar in enumerate(architectures):\n",
    "    AE_name = f'default_AE0_{i}'\n",
    "    print(AE_name)\n",
    "    drffit.add_AE(\n",
    "                            name = AE_name,\n",
    "                            num_features=num_features,\n",
    "                            device = 'cuda',\n",
    "                            replace = True,\n",
    "                            norm = linear_norm,\n",
    "                            denorm = linear_norm,\n",
    "                            architecture = {'units':hyperpar[0]},\n",
    "                            out_fn = linear_norm,\n",
    "                            activation_fn = hyperpar[1],\n",
    "\n",
    "    )\n",
    "\n",
    "    val_history = drffit.train_feature_fn(\n",
    "                            name = AE_name,\n",
    "                            epochs = 100000, \n",
    "                            lr = hyperpar[2], scheduler_kwargs = {'gamma' : 0.25, 'step_size' : 50},\n",
    "                            weight_decay = 0.01, clip_max_norm = 5.0, amsgrad = False,\n",
    "                            batch_size = 32, split = [0.8,1.0],\n",
    "                            patience = 50, multi_reset = 1, threshold_gain = 0.5,\n",
    "                            print_rate = 1, verbose = 1,\n",
    "                            enforce_replace=True, return_val = True\n",
    "\n",
    "    )"
   ]
  },
  {
   "cell_type": "code",
   "execution_count": null,
   "id": "96b6d799",
   "metadata": {},
   "outputs": [],
   "source": [
    "#plot_train_loss(val_history, cutoff = 1, use_logscale= True)"
   ]
  },
  {
   "cell_type": "code",
   "execution_count": null,
   "id": "6c95601c",
   "metadata": {
    "scrolled": false
   },
   "outputs": [],
   "source": [
    "reconstructed_SE_AEs = []\n",
    "labels = []\n",
    "for i in range(1):\n",
    "    AE_name = f'default_AE0_{i}'\n",
    "    print(AE_name)\n",
    "    labels.append(i)\n",
    "    AE_fn = drffit.feature_fn[AE_name]['fn']\n",
    "    reconstructed_train_x_AE = ensure_numpy(AE_fn(ensure_torch(testing_x).to(device)).to(\"cpu\"))\n",
    "    testing_x = ensure_numpy(testing_x)\n",
    "    plot_fn_reconstruction(testing_x,reconstructed_train_x_AE, freq = freq, rescale_plot = rescale_plot, use_log = use_log)\n",
    "    reconstructed_SE_AEt = ensure_torch(reconstructed_train_x_AE)\n",
    "    reconstructed_SE_AEs.append(reconstructed_SE_AEt)\n",
    "rec_gof_density(ensure_torch(testing_x), ensure_torch(reconstructed_train_x_PCA), name = 'AE', reconstructed_SE = reconstructed_SE_AEs, figsize = (10,6), x_lim = [0.90,1], labels = labels)"
   ]
  },
  {
   "cell_type": "markdown",
   "id": "f05ea67b",
   "metadata": {},
   "source": [
    "## Autoencoder Subspace Estimator"
   ]
  },
  {
   "cell_type": "code",
   "execution_count": null,
   "id": "3d65d15b",
   "metadata": {},
   "outputs": [],
   "source": [
    "architectures = [\n",
    "    [[100, 50, 50], True, nn.SiLU(), 0.025],\n",
    "    [[100, 50, 50], True, nn.SiLU(), 0.0125],\n",
    "    [[100, 50, 50], True, nn.SiLU(), 0.005],\n",
    "    [[100, 50, 50], True, nn.SiLU(), 0.0025],\n",
    "    [[100, 50, 50], True, nn.SiLU(), 0.00125],\n",
    "    [[100, 50, 50], True, nn.SiLU(), 0.0005],\n",
    "    #[[100, 100], True, nn.PReLU(), 0.01],\n",
    "    #[[100, 100], True, nn.SiLU(), 0.05],\n",
    "    #[[100, 100], True, nn.PReLU(), 0.05],\n",
    "]\n",
    "for i, hyperpar in enumerate(architectures):\n",
    "    AE_SE_norm_features = False\n",
    "    SE_Name = f\"default_AE0_0_{i}\"\n",
    "    print(SE_Name+':')\n",
    "    drffit.initialize_subspace_estimator(SE_Name)\n",
    "    architecture = {\n",
    "        'units':hyperpar[0],\n",
    "        'skip_connection':hyperpar[1],\n",
    "\n",
    "    }\n",
    "\n",
    "    drffit.uniform_add_feature_fn_to_subspace_estimator(\n",
    "\n",
    "                                                        subspace_estimator_name=SE_Name,\n",
    "                                                        feature_fn_name=\"default_AE0_0\",\n",
    "                                                        device = 'cuda',\n",
    "                                                        combine = True,\n",
    "                                                        enforce_replace = True,\n",
    "                                                        architecture = architecture,\n",
    "                                                        activation_fn = hyperpar[2],\n",
    "\n",
    "    )\n",
    "\n",
    "    drffit.set_feature_data_of_subspace_estimator(\n",
    "\n",
    "                                                        subspace_estimator_name=SE_Name,\n",
    "                                                        norm_features = AE_SE_norm_features,\n",
    "                                                        split = [0.80,1.0],\n",
    "                                                        overwrite_data = True\n",
    "\n",
    "    )\n",
    "    val_history = drffit.train_all_nets_from_subspace_estimator(\n",
    "\n",
    "                                                    name = SE_Name,\n",
    "                                                    epochs = 5000, batch_size = 32,\n",
    "                                                    lr = hyperpar[3], scheduler_kwargs = {'gamma' : 0.25, 'step_size' : 50},\n",
    "                                                    weight_decay = 0.01, clip_max_norm = 1.0, amsgrad = False,\n",
    "                                                    patience = 10, multi_reset = 5, threshold_gain = 0.1,\n",
    "                                                    print_rate = 1, verbose = 1,\n",
    "                                                    enforce_replace=False, skip_trained=False,\n",
    "                                                    return_val = True, rescale_loss = 10000.0,\n",
    "\n",
    "    )\n"
   ]
  },
  {
   "cell_type": "code",
   "execution_count": null,
   "id": "6e5eb053",
   "metadata": {},
   "outputs": [],
   "source": [
    "AE_fn = drffit.feature_fn['default_AE0_0']['fn']"
   ]
  },
  {
   "cell_type": "code",
   "execution_count": null,
   "id": "2b3f0109",
   "metadata": {},
   "outputs": [],
   "source": [
    "#print(torch.tensor(val_history).shape)\n",
    "#plot_train_loss(val_history[0], cutoff = 1, use_logscale= False)"
   ]
  },
  {
   "cell_type": "code",
   "execution_count": null,
   "id": "08654fa2",
   "metadata": {
    "scrolled": false
   },
   "outputs": [],
   "source": [
    "#device = 'cuda'\n",
    "labels = ['PCA']\n",
    "reconstructed_SE_AEs = [reconstructed_SE_PCAs[0]]\n",
    "for SE in drffit.subspace_estimator:\n",
    "    if 'AE0' in SE and '_0_3' in SE:\n",
    "        print(SE)\n",
    "        se_AE = drffit.subspace_estimator[SE]['subspace_estimator']\n",
    "        testing_x = ensure_numpy(testing_x)\n",
    "        AE_test = ensure_numpy(torch.cat([se_AE.net_list[i](ensure_torch(norm_pars(train_theta)).to(device)) for i in range(len(se_AE.net_list))],dim = 1))\n",
    "        if AE_SE_norm_features:\n",
    "            AE_test = ((AE_test + ensure_numpy(se_AE.feature_mean)) * ensure_numpy(se_AE.feature_std))\n",
    "        reconstructed_SE_AE = ensure_numpy(AE_fn.denorm(AE_fn.out_fn(AE_fn.decoder(ensure_torch(AE_test).to(device)))))\n",
    "        plot_fn_reconstruction(testing_x, reconstructed_train_x_AE, reconstructed_SE = reconstructed_SE_AE, freq = freq, rescale_plot = rescale_plot, use_log = use_log)\n",
    "        reconstructed_SE_AEs.append(ensure_torch(reconstructed_SE_AE))\n",
    "        labels.append(SE.split('_')[1])\n",
    "rec_gof_density(ensure_torch(testing_x), ensure_torch(reconstructed_train_x_AE), name = 'AE', reconstructed_SE = reconstructed_SE_AEs, figsize = (12,8), x_lim = [0.9,1], labels = labels)"
   ]
  },
  {
   "cell_type": "code",
   "execution_count": null,
   "id": "4909aa69",
   "metadata": {},
   "outputs": [],
   "source": [
    "save_SE_AE = True\n",
    "save_AE = True\n",
    "AE_name = 'default_AE0_0'\n",
    "if save_SE_AE:\n",
    "    drffit.save_SE_as_log(\n",
    "            model_path = DRFFIT_objects_path,\n",
    "            file_name = DRFFIT_file_name+f'_SE_AE{num_features}LD',\n",
    "            name = \"default_AE2_0_3\",\n",
    "            enforce_replace = False,\n",
    "    )\n",
    "    if save_AE:\n",
    "        drffit.save_AE(\n",
    "                model_path=DRFFIT_objects_path,\n",
    "                file_name = DRFFIT_file_name+f'_AE{num_features}LD',\n",
    "                name = AE_name, enforce_replace = False\n",
    "        )"
   ]
  },
  {
   "cell_type": "markdown",
   "id": "8c2a1caa",
   "metadata": {},
   "source": [
    "# Make another DRFFIT object to host the chosen SE on CPU and save it for usage"
   ]
  },
  {
   "cell_type": "code",
   "execution_count": null,
   "id": "20bc42b0",
   "metadata": {},
   "outputs": [],
   "source": [
    "#DRFFIT_objects_path = sub_dir\n",
    "\n",
    "#num_features = 5\n",
    "device_CPU = 'cpu'\n",
    "\n",
    "# Initialize drffit object\n",
    "drffit_CPU = DRFFIT(train_theta.shape[1], train_x.shape[1], theta_min, theta_range)\n",
    "\n",
    "# Add dataset to the DRFFIT object\n",
    "drffit_CPU.add_data(train_x, theta=train_theta)\n",
    "drffit_CPU.initialize_subspace_estimator()\n",
    "drffit_CPU.initialize_subspace_estimator(\"PCA\")\n",
    "testing_x = train_x\n",
    "# PCA\n",
    "pca = PCA_features(num_features)\n",
    "drffit_CPU.add_custom_fn(pca, pca.num_features,\"PCA\")\n",
    "drffit_CPU.train_feature_fn(name = \"PCA\")\n",
    "PCA_SE_norm_features = False\n",
    "drffit_CPU.uniform_add_feature_fn_to_subspace_estimator(\n",
    "\n",
    "                        subspace_estimator_name=\"PCA\",\n",
    "                        feature_fn_name=\"PCA\",\n",
    "                        device = device_CPU,\n",
    "                        enforce_replace = True,\n",
    "                        combine = True\n",
    "\n",
    ")\n",
    "drffit_CPU.load_SE_from_log(\n",
    "\n",
    "                        DRFFIT_objects_path,\n",
    "                        DRFFIT_file_name+f'_SE_PCA{num_features}LD',\n",
    "                        name = \"PCA\",\n",
    "                        device = device_CPU,\n",
    "                        enforce_replace = True\n",
    "\n",
    ")\n",
    "\n",
    "PCA_sampler = uniform_sampler(theta_min, theta_range = theta_range)\n",
    "drffit_CPU.set_sampler_for_subspace(PCA_sampler, sampler_name='PCA', subspace_estimator_name=\"PCA\", enforce_replace = True)\n",
    "subspace = drffit_CPU.get_DRFFIT_subspace_from_subspace_estimator(sampler_name=\"PCA\",name=\"PCA\", point = parameters_alpha_peak, width = 0.1)#, target = target_PSDs[0])\n",
    "print(subspace.shape)\n"
   ]
  },
  {
   "cell_type": "code",
   "execution_count": null,
   "id": "a02d338b",
   "metadata": {},
   "outputs": [],
   "source": [
    "PCA_fn = drffit_CPU.feature_fn['PCA']['fn']\n",
    "se_PCA = drffit_CPU.subspace_estimator['PCA']['subspace_estimator']\n",
    "PCA_true = ensure_numpy(PCA_fn.feature_fn(testing_x))\n",
    "reconstructed_train_x_PCA = ensure_numpy(PCA_fn.pca_model.inverse_transform(PCA_true))\n",
    "PCA_test = ensure_numpy(torch.cat([se_PCA.net_list[i](ensure_torch(norm_pars(train_theta)).to(device_CPU)) for i in range(len(se_PCA.net_list))],dim = 1))\n",
    "if PCA_SE_norm_features:\n",
    "    PCA_test = ((PCA_test + se_PCA.feature_mean) * se_PCA.feature_std)\n",
    "reconstructed_SE_PCA = ensure_numpy(PCA_fn.pca_model.inverse_transform(PCA_test))\n",
    "testing_x = ensure_numpy(testing_x)\n",
    "plot_fn_reconstruction(testing_x, reconstructed_train_x_PCA, reconstructed_SE = reconstructed_SE_PCA, freq = freq, rescale_plot = rescale_plot, use_log = use_log)"
   ]
  },
  {
   "cell_type": "code",
   "execution_count": null,
   "id": "bf70d047",
   "metadata": {},
   "outputs": [],
   "source": [
    "# AE pretrained\n",
    "drffit_CPU.add_AE(\n",
    "    \n",
    "            pre_trained=True,\n",
    "            model_path=DRFFIT_objects_path,\n",
    "            file_name = DRFFIT_file_name+f'_AE{num_features}LD',\n",
    "            device = device_CPU,\n",
    "            replace = True\n",
    "    \n",
    " )\n"
   ]
  },
  {
   "cell_type": "code",
   "execution_count": null,
   "id": "ae9a9b26",
   "metadata": {
    "scrolled": true
   },
   "outputs": [],
   "source": [
    "AE_SE_norm_features = False\n",
    "drffit_CPU.uniform_add_feature_fn_to_subspace_estimator(\n",
    "    \n",
    "            device = device_CPU,\n",
    "            enforce_replace = True,\n",
    "            combine = True\n",
    "    \n",
    ")\n",
    "\n",
    "drffit_CPU.load_SE_from_log(\n",
    "    \n",
    "            DRFFIT_objects_path,\n",
    "            file_name = DRFFIT_file_name+f'_SE_AE{num_features}LD',\n",
    "            device = device_CPU,\n",
    "            enforce_replace = True\n",
    "    \n",
    ")\n",
    "\n",
    "AE_sampler = uniform_sampler(theta_min, theta_range = theta_range)\n",
    "drffit_CPU.set_sampler_for_subspace(AE_sampler, enforce_replace = True)\n",
    "subspace = drffit_CPU.get_DRFFIT_subspace_from_subspace_estimator(point = parameters_alpha_peak, width = 0.1)\n",
    "print(subspace.shape)"
   ]
  },
  {
   "cell_type": "code",
   "execution_count": null,
   "id": "1b8814f2",
   "metadata": {
    "scrolled": false
   },
   "outputs": [],
   "source": [
    "AE_fn = drffit_CPU.feature_fn['default_AE']['fn']\n",
    "se_AE = drffit_CPU.subspace_estimator['default']['subspace_estimator']\n",
    "reconstructed_train_x_AE = ensure_numpy(AE_fn(ensure_torch(testing_x).to(device_CPU)).to(\"cpu\"))\n",
    "testing_x = ensure_numpy(testing_x)\n",
    "AE_test = ensure_numpy(torch.cat([se_AE.net_list[i](ensure_torch(norm_pars(train_theta)).to(device_CPU)) for i in range(len(se_AE.net_list))],dim = 1))\n",
    "if AE_SE_norm_features:\n",
    "    AE_test = ((AE_test + se_AE.feature_mean) * se_AE.feature_std)\n",
    "reconstructed_SE_AE = ensure_numpy(AE_fn.denorm(AE_fn.out_fn(AE_fn.decoder(ensure_torch(AE_test).to(device_CPU)))))\n",
    "plot_fn_reconstruction(testing_x, reconstructed_train_x_AE, reconstructed_SE = reconstructed_SE_AE, freq = freq, rescale_plot = rescale_plot, use_log = use_log)"
   ]
  },
  {
   "cell_type": "code",
   "execution_count": null,
   "id": "d004083d",
   "metadata": {},
   "outputs": [],
   "source": [
    "save_log(drffit_CPU,DRFFIT_objects_path, DRFFIT_file_name+f'_object{num_features}LD', enforce_replace = False)"
   ]
  }
 ],
 "metadata": {
  "kernelspec": {
   "display_name": "Python 3.10.1 64-bit",
   "language": "python",
   "name": "python3"
  },
  "language_info": {
   "codemirror_mode": {
    "name": "ipython",
    "version": 3
   },
   "file_extension": ".py",
   "mimetype": "text/x-python",
   "name": "python",
   "nbconvert_exporter": "python",
   "pygments_lexer": "ipython3",
   "version": "3.10.1"
  },
  "vscode": {
   "interpreter": {
    "hash": "16b3cb373ab163b43349ea32823e4187dc37f8a5f4a04aa5ed18ab49bf23b1de"
   }
  }
 },
 "nbformat": 4,
 "nbformat_minor": 5
}
