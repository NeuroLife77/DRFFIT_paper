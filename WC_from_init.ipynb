{
 "cells": [
  {
   "cell_type": "markdown",
   "id": "e3fc22d7",
   "metadata": {},
   "source": [
    "## Grouping all the data for the test without initial global search\n",
    "The search is started from the initial solution defined as the best solution found from the initial global search performed over the whole parameter space:\n",
    "$$\\theta_{init}^T = \\theta_{argmin(\\ell(Y_T, Y_{\\theta_{\\epsilon}}))} \\in \\theta_{\\epsilon} \\; \\forall \\; T\\in \\text{Set of 20 targets}$$"
   ]
  },
  {
   "cell_type": "markdown",
   "id": "98444063",
   "metadata": {},
   "source": [
    "### Imports & settings"
   ]
  },
  {
   "cell_type": "code",
   "execution_count": 1,
   "id": "7c5a3a63",
   "metadata": {},
   "outputs": [],
   "source": [
    "import numpy as np\n",
    "import torch\n",
    "from matplotlib import pyplot as plt\n",
    "import matplotlib as mpl\n",
    "import pickle as pkl\n",
    "from lib.utils import *\n",
    "from copy import deepcopy as dcp\n",
    "from os import walk\n",
    "import shutil\n",
    "from lib.Wilson_Cowan.parameters_info import parameter_names, parameters_lower_bound,parameters_range_bounds\n",
    "mpl.rcParams['font.size'] = 18\n",
    "mpl.rcParams['lines.linewidth'] = 2\n",
    "mpl.rcParams['figure.facecolor'] = 'w'"
   ]
  },
  {
   "cell_type": "markdown",
   "id": "d28eaee0",
   "metadata": {},
   "source": [
    "### Loading the data from the CMA-ES search"
   ]
  },
  {
   "cell_type": "code",
   "execution_count": null,
   "id": "2ca2dd22",
   "metadata": {},
   "outputs": [],
   "source": [
    "cma_p = '../Data/WC/search_tests/cmaes/'\n",
    "target_indices = [i for i in range(20)]\n",
    "results = [[None for _ in range(8)] for _ in range(2)]\n",
    "runtime_results = [[None for _ in range(8)] for _ in range(2)]\n",
    "num_std_tested = [1]\n",
    "init_files = []\n",
    "runtime_CMA = [[] for _ in range(2)]\n",
    "all_std_errors = [[] for _ in range(2)]\n",
    "cma_fs = ['cmaes_25chk_100rd_all_best_final25repeats_0']\n",
    "for iii, cma_f in enumerate(cma_fs):\n",
    "    cmaes_log = get_log(cma_p,cma_f)\n",
    "    for ii in range(2):\n",
    "        start_index = ii * 20\n",
    "        init_file_to_search = cmaes_log[start_index]['settings']['init_file']\n",
    "        print(init_file_to_search)\n",
    "        init_files.append(init_file_to_search)\n",
    "        for j in range(num_std_tested[iii]):\n",
    "            cmaes_errors = []\n",
    "            run_time = []\n",
    "            sigma = cmaes_log[start_index+j]['settings']['sigma0']\n",
    "            for i in range(20):\n",
    "                errors = -cmaes_log[start_index+i]['fit_history']['error']\n",
    "                run_time.append(cmaes_log[start_index+i]['overall_runtime'])\n",
    "                cmaes_errors.append(errors)\n",
    "            cmaes_errors = torch.cat(cmaes_errors, dim = 0).mean(-1).unsqueeze(0)\n",
    "            cmaes_fits = torch.cat(cmaes_fits, dim = 0)\n",
    "            results[ii][3] = cmaes_errors\n",
    "            run_time = torch.cat(run_time, dim = 0).mean(-1)\n",
    "            runtime_results[ii][3] = run_time.unsqueeze(0)\n",
    "print(results[0][3].shape)\n",
    "print(runtime_results[0][3].shape)"
   ]
  },
  {
   "cell_type": "markdown",
   "id": "6c4e285e",
   "metadata": {},
   "source": [
    "### Loading the data from the PSO search"
   ]
  },
  {
   "cell_type": "code",
   "execution_count": 3,
   "id": "41e750e0",
   "metadata": {},
   "outputs": [],
   "source": [
    "global_search_path_PSO = '../Data/WC/search_tests/PSO/'\n",
    "PSO_paths = [\n",
    "    'cube_10000_0-20targets_distsphere_blw0.15_chunk25_100rds_w0.7_c2.25_c2.25_PSO_0',\n",
    "    'cube_10000_1-20targets_distsphere_blw0.15_chunk25_100rds_w0.9_c1.5_c1.5_PSO_0',\n",
    "]\n",
    "search_logs = [get_log(global_search_path_PSO, PSO_paths[i]) for i in range(len(PSO_paths))]\n",
    "for i in range(len(PSO_paths)):\n",
    "    results[i][2] = -search_logs[i][0]['fit_history']['error'][target_indices].mean(-1).unsqueeze(0)\n",
    "    runtime_results[i][2] = search_logs[i][0]['overall_runtime'].squeeze().unsqueeze(0)\n",
    "print(results[0][2].shape)\n",
    "print(runtime_results[0][2].shape)"
   ]
  },
  {
   "cell_type": "markdown",
   "id": "ecc2e8e0",
   "metadata": {},
   "source": [
    "### Loading the data from the RS & SA searches (baseline and DR-FFIT augmented versions)"
   ]
  },
  {
   "cell_type": "code",
   "execution_count": 6,
   "id": "547ad1e5",
   "metadata": {},
   "outputs": [],
   "source": [
    "global_search_path = '../Data/WC/search_tests/simple/'\n",
    "final_files = [\n",
    "        ['cube_10000_0-20targets_w0.0_blw0.125_chunk25_100rds_0dim_5LD_pure', 0],\n",
    "\t\t['cube_10000_0-20targets_w0.0_blw0.1_chunk25_100rds_0dim_5LD_SA', 1],\n",
    "\t\t['cube_10000_0-20targets_w0.15_blw0.0_chunk25_100rds_8dim_5LD_pure_AE', 2],\n",
    "\t\t['cube_10000_0-20targets_w0.15_blw0.0_chunk25_100rds_10dim_5LD_pure_PCA', 3],\n",
    "\t\t['cube_10000_0-20targets_w0.15_blw0.0_chunk25_100rds_11dim_5LD_SA_AE', 4],\n",
    "\t\t['cube_10000_0-20targets_w0.15_blw0.0_chunk25_100rds_10dim_5LD_SA_PCA', 5],\n",
    "],[\n",
    "\t\t['cube_10000_1-20targets_w0.0_blw0.1_chunk25_100rds_0dim_5LD_pure', 0],\n",
    "\t\t['cube_10000_1-20targets_w0.0_blw0.125_chunk25_100rds_0dim_5LD_SA', 1],\n",
    "\t\t['cube_10000_1-20targets_w0.15_blw0.0_chunk25_100rds_8dim_5LD_pure_AE', 2],\n",
    "\t\t['cube_10000_1-20targets_w0.15_blw0.0_chunk25_100rds_10dim_5LD_pure_PCA', 3],\n",
    "\t\t['cube_10000_1-20targets_w0.175_blw0.0_chunk25_100rds_11dim_5LD_SA_AE', 4],\n",
    "\t\t['cube_10000_1-20targets_w0.15_blw0.0_chunk25_100rds_12dim_5LD_SA_PCA', 5],\n",
    "]\n",
    "\n",
    "res_index = [0,1,4,5,6,7]\n",
    "random_search_paths = final_files\n",
    "for ii in range(len(random_search_paths)):\n",
    "    fits_rs = [None for _ in range(6)]\n",
    "    settings = [None for _ in range(6)]\n",
    "    for j, path in enumerate(random_search_paths[ii]):\n",
    "        file_er = get_log(global_search_path, path[0])\n",
    "        err = -file_er[path[1]]['fit_history']['error'][target_indices][:,:,:101,:].mean(-1).unsqueeze(0)\n",
    "        results[ii][res_index[path[1]]] = err\n",
    "        runtime_results[ii][res_index[path[1]]] = file_er[path[1]]['overall_runtime'].squeeze().unsqueeze(0)\n",
    "print(results[0][7].shape)\n",
    "print(runtime_results[0][7].shape)"
   ]
  },
  {
   "cell_type": "markdown",
   "id": "3099deba",
   "metadata": {},
   "source": [
    "### Concatenating all the data"
   ]
  },
  {
   "cell_type": "code",
   "execution_count": null,
   "id": "d56753aa",
   "metadata": {},
   "outputs": [],
   "source": [
    "results[0] = torch.cat(results[0], dim = 0).unsqueeze(0)\n",
    "results[1] = torch.cat(results[1], dim = 0).unsqueeze(0)\n",
    "results = torch.cat(results, dim = 0)\n",
    "print(results.shape)\n",
    "runtime_results[0] = torch.cat(runtime_results[0], dim = 0).unsqueeze(0)\n",
    "runtime_results[1] = torch.cat(runtime_results[1], dim = 0).unsqueeze(0)\n",
    "runtime_results = torch.cat(runtime_results, dim = 0)\n",
    "print(runtime_results.shape)"
   ]
  },
  {
   "cell_type": "markdown",
   "id": "4a7bb9af",
   "metadata": {},
   "source": [
    "### Saving the file to be loaded in the WC_analyze_data.ipynb file"
   ]
  },
  {
   "cell_type": "code",
   "execution_count": null,
   "id": "ad26d6b3",
   "metadata": {},
   "outputs": [],
   "source": [
    "combined_data_path = \"../Data/\"\n",
    "results_log = {\n",
    "    'results': results,\n",
    "    'runtime': runtime_results\n",
    "}\n",
    "save_log(results_log, combined_data_path, 'WC_with_init')"
   ]
  }
 ],
 "metadata": {
  "kernelspec": {
   "display_name": "Python 3 (ipykernel)",
   "language": "python",
   "name": "python3"
  },
  "language_info": {
   "codemirror_mode": {
    "name": "ipython",
    "version": 3
   },
   "file_extension": ".py",
   "mimetype": "text/x-python",
   "name": "python",
   "nbconvert_exporter": "python",
   "pygments_lexer": "ipython3",
   "version": "3.10.1"
  },
  "vscode": {
   "interpreter": {
    "hash": "16b3cb373ab163b43349ea32823e4187dc37f8a5f4a04aa5ed18ab49bf23b1de"
   }
  }
 },
 "nbformat": 4,
 "nbformat_minor": 5
}
