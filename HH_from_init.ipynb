{
 "cells": [
  {
   "cell_type": "markdown",
   "id": "e214ce3f",
   "metadata": {},
   "source": [
    "## Grouping all the data for the test without initial global search\n",
    "The search is started from the initial solution defined as the best solution found from the initial global search performed over the whole parameter space:\n",
    "$$\\theta_{init}^T = \\theta_{argmin(\\ell(Y_T, Y_{\\theta_{\\epsilon}}))} \\in \\theta_{\\epsilon} \\; \\forall \\; T \\in \\text{Set of 20 targets}$$"
   ]
  },
  {
   "cell_type": "markdown",
   "id": "5a2f11c3",
   "metadata": {},
   "source": [
    "### Imports & settings"
   ]
  },
  {
   "cell_type": "code",
   "execution_count": 1,
   "id": "168e30fc",
   "metadata": {},
   "outputs": [],
   "source": [
    "import numpy as np\n",
    "import torch\n",
    "from matplotlib import pyplot as plt\n",
    "import matplotlib as mpl\n",
    "import pickle as pkl\n",
    "from lib.utils import *\n",
    "from copy import deepcopy as dcp\n",
    "from os import walk\n",
    "import shutil\n",
    "from lib.HH_model.parameters_info import parameter_names, parameters_lower_bound,parameters_range_bounds\n",
    "mpl.rcParams['font.size'] = 18\n",
    "mpl.rcParams['lines.linewidth'] = 2\n",
    "mpl.rcParams['figure.facecolor'] = 'w'"
   ]
  },
  {
   "cell_type": "markdown",
   "id": "6a36d357",
   "metadata": {},
   "source": [
    "### Loading the data from the CMA-ES search"
   ]
  },
  {
   "cell_type": "code",
   "execution_count": null,
   "id": "fef4009e",
   "metadata": {},
   "outputs": [],
   "source": [
    "cma_p = '../Data/HH/search_tests/cmaes/'\n",
    "target_indices = [i for i in range(20)]\n",
    "results = [[None for _ in range(8)] for _ in range(2)]\n",
    "runtime_results = [[None for _ in range(8)] for _ in range(2)]\n",
    "num_std_tested = 1\n",
    "runtime_CMA = [[] for _ in range(2)]\n",
    "all_std_errors = [[] for _ in range(2)]\n",
    "cma_fs =  ['cmaes_25chk_100rd_all_best_final25repeats']\n",
    "for cma_f in cma_fs:\n",
    "    cmaes_log = get_log(cma_p,cma_f)\n",
    "    for ii in range(2):\n",
    "        start_index = ii * num_std_tested\n",
    "        init_file_to_search = cmaes_log[start_index]['settings']['init_file']\n",
    "        print(init_file_to_search)\n",
    "        for j in range(num_std_tested):\n",
    "            cmaes_errors = []\n",
    "            run_time = []\n",
    "            sigma = cmaes_log[start_index+j]['settings']['sigma0']\n",
    "            for i in range(40*num_std_tested):\n",
    "                if cmaes_log[i]['settings']['init_file'] == init_file_to_search and sigma == cmaes_log[i]['settings']['sigma0'] :\n",
    "                    errors = cmaes_log[i]['fit_history']['error']\n",
    "                    run_time.append(cmaes_log[i]['overall_runtime'])\n",
    "                    cmaes_errors.append(errors)\n",
    "            cmaes_errors = torch.cat(cmaes_errors, dim = 0).mean(-1).unsqueeze(0)\n",
    "            results[ii][3] = cmaes_errors\n",
    "            run_time = torch.cat(run_time, dim = 0).mean(-1)\n",
    "            runtime_results[ii][3] = run_time.unsqueeze(0)\n",
    "print(results[0][3].shape)\n",
    "print(runtime_results[0][3].shape)"
   ]
  },
  {
   "cell_type": "markdown",
   "id": "46a7559f",
   "metadata": {},
   "source": [
    "### Loading the data from the PSO search"
   ]
  },
  {
   "cell_type": "code",
   "execution_count": null,
   "id": "a69dfdf1",
   "metadata": {},
   "outputs": [],
   "source": [
    "global_search_path_PSO = '../Data/HH/search_tests/PSO/'\n",
    "PSO_paths = [\n",
    "    'cube10000_0-20targets_blw0.15_chunk25_100rds_w0.5_c1.5_c0.25_0_PSO',\n",
    "    'cube10000_1-20targets_blw0.15_chunk25_100rds_w0.5_c1.5_c0.5_0_PSO',\n",
    "]\n",
    "\n",
    "search_logs = [get_log(global_search_path_PSO, PSO_paths[i]) for i in range(len(PSO_paths))]\n",
    "for i in range(len(PSO_paths)):\n",
    "    results[i][2] = search_logs[i][0]['fit_history']['error'][target_indices].mean(-1).unsqueeze(0)\n",
    "    runtime_results[i][2] = search_logs[i][0]['overall_runtime'].squeeze().unsqueeze(0)\n",
    "print(results[0][2].shape)\n",
    "print(runtime_results[0][2].shape)"
   ]
  },
  {
   "cell_type": "markdown",
   "id": "df5cb1c5",
   "metadata": {},
   "source": [
    "### Loading the data from the RS & SA searches (baseline and DR-FFIT augmented versions)"
   ]
  },
  {
   "cell_type": "code",
   "execution_count": 5,
   "id": "c19f6601",
   "metadata": {},
   "outputs": [],
   "source": [
    "sub_dir =  '../Data/HH/search_tests/simple/'\n",
    "\n",
    "final_files = [\n",
    "    [\n",
    "        ['cube10000_0-20targets_sphere_w0.0_bldsphere_blw0.125_chunk25_100rds_0dim_5LD_pure', 0],\n",
    "\t\t['cube10000_0-20targets_sphere_w0.0_bldsphere_blw0.125_chunk25_100rds_0dim_5LD_SA', 1],\n",
    "\t\t['cube10000_0-20targets_sphere_w0.13_bldsphere_blw0.0_chunk25_100rds_10dim_5LD_pure_AE', 2],\n",
    "\t\t['cube10000_0-20targets_sphere_w0.2_bldsphere_blw0.0_chunk25_100rds_9dim_5LD_pure_PCA', 3],\n",
    "\t\t['cube10000_0-20targets_sphere_w0.2_bldsphere_blw0.0_chunk25_100rds_10dim_5LD_SA_AE', 4],\n",
    "\t\t['cube10000_0-20targets_sphere_w0.16_bldsphere_blw0.0_chunk25_100rds_8dim_5LD_SA_PCA', 5],\n",
    "    ],[\n",
    "        ['cube10000_1-20targets_sphere_w0.0_bldsphere_blw0.1_chunk25_100rds_0dim_5LD_pure', 0],\n",
    "\t\t['cube10000_1-20targets_sphere_w0.0_bldsphere_blw0.1_chunk25_100rds_0dim_5LD_SA', 1],\n",
    "\t\t['cube10000_1-20targets_sphere_w0.16_bldsphere_blw0.0_chunk25_100rds_9dim_5LD_pure_AE', 2],\n",
    "\t\t['cube10000_1-20targets_sphere_w0.2_bldsphere_blw0.0_chunk25_100rds_10dim_5LD_pure_PCA', 3],\n",
    "\t\t['cube10000_1-20targets_sphere_w0.12_bldsphere_blw0.0_chunk25_100rds_9dim_5LD_SA_AE', 4],\n",
    "\t\t['cube10000_1-20targets_sphere_w0.14_bldsphere_blw0.0_chunk25_100rds_9dim_5LD_SA_PCA', 5],\n",
    "    ]\n",
    "]\n",
    "res_index = [0,1,4,5,6,7]\n",
    "global_search_path = sub_dir\n",
    "random_search_paths = final_files\n",
    "for ii in range(len(random_search_paths)):\n",
    "    fits_rs = [None for _ in range(6)]\n",
    "    settings = [None for _ in range(6)]\n",
    "    for j, path in enumerate(random_search_paths[ii]):\n",
    "        file_er = get_log(global_search_path, path[0])\n",
    "        err = file_er[path[1]]['fit_history']['error'][target_indices][:,:,:101,:].mean(-1).unsqueeze(0)\n",
    "        settings[path[1]] = file_er[path[1]]['settings']\n",
    "        results[ii][res_index[path[1]]] = err\n",
    "        runtime_results[ii][res_index[path[1]]] = file_er[path[1]]['overall_runtime'].squeeze().unsqueeze(0)\n",
    "print(results[0][7].shape)\n",
    "print(runtime_results[0][7].shape)"
   ]
  },
  {
   "cell_type": "markdown",
   "id": "e40856b9",
   "metadata": {},
   "source": [
    "### Concatenating all the data"
   ]
  },
  {
   "cell_type": "code",
   "execution_count": null,
   "id": "0d3f459d",
   "metadata": {},
   "outputs": [],
   "source": [
    "results[0] = torch.cat(results[0], dim = 0).unsqueeze(0)\n",
    "results[1] = torch.cat(results[1], dim = 0).unsqueeze(0)\n",
    "results = torch.cat(results, dim = 0)\n",
    "print(results.shape)\n",
    "runtime_results[0] = torch.cat(runtime_results[0], dim = 0).unsqueeze(0)\n",
    "runtime_results[1] = torch.cat(runtime_results[1], dim = 0).unsqueeze(0)\n",
    "runtime_results = torch.cat(runtime_results, dim = 0)\n",
    "print(runtime_results.shape)"
   ]
  },
  {
   "cell_type": "markdown",
   "id": "4777041c",
   "metadata": {},
   "source": [
    "### Saving the file to be loaded in the HH_analyze_data.ipynb file"
   ]
  },
  {
   "cell_type": "code",
   "execution_count": null,
   "id": "52667d82",
   "metadata": {},
   "outputs": [],
   "source": [
    "combined_data_path = \"../Data/\"\n",
    "results_log = {\n",
    "    'results': results,\n",
    "    'runtime': runtime_results\n",
    "}\n",
    "save_log(results_log, combined_data_path, 'HH_with_init', enforce_replace = False)"
   ]
  }
 ],
 "metadata": {
  "kernelspec": {
   "display_name": "Python 3 (ipykernel)",
   "language": "python",
   "name": "python3"
  },
  "language_info": {
   "codemirror_mode": {
    "name": "ipython",
    "version": 3
   },
   "file_extension": ".py",
   "mimetype": "text/x-python",
   "name": "python",
   "nbconvert_exporter": "python",
   "pygments_lexer": "ipython3",
   "version": "3.10.1"
  },
  "vscode": {
   "interpreter": {
    "hash": "16b3cb373ab163b43349ea32823e4187dc37f8a5f4a04aa5ed18ab49bf23b1de"
   }
  }
 },
 "nbformat": 4,
 "nbformat_minor": 5
}
