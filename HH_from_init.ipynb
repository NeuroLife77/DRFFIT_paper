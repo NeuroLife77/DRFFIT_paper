{
 "cells": [
  {
   "cell_type": "code",
   "execution_count": null,
   "id": "7c5a3a63",
   "metadata": {},
   "outputs": [],
   "source": [
    "import numpy as np\n",
    "import torch\n",
    "from matplotlib import pyplot as plt\n",
    "import matplotlib as mpl\n",
    "import pickle as pkl\n",
    "from lib.utils import *\n",
    "from copy import deepcopy as dcp\n",
    "from os import walk\n",
    "import shutil\n",
    "from lib.HH_model.parameters_info import parameter_names, parameters_lower_bound,parameters_range_bounds\n",
    "mpl.rcParams['font.size'] = 18\n",
    "mpl.rcParams['lines.linewidth'] = 2\n",
    "mpl.rcParams['figure.facecolor'] = 'w'"
   ]
  },
  {
   "cell_type": "markdown",
   "id": "30097305",
   "metadata": {},
   "source": [
    "# CMA-ES"
   ]
  },
  {
   "cell_type": "code",
   "execution_count": null,
   "id": "44feab8a",
   "metadata": {},
   "outputs": [],
   "source": [
    "cma_p = '../Data/HH/search_tests/cmaes/'\n",
    "num_std_tested = 1\n",
    "init_files = []\n",
    "all_std_errors = [[] for _ in range(2)]\n",
    "runtime_CMA = [[] for _ in range(2)]\n",
    "cma_fs =  ['cmaes_25chk_100rd_all_best_final25repeats']\n",
    "for cma_f in cma_fs:\n",
    "    cmaes_log = get_log(cma_p,cma_f)\n",
    "    for ii in range(2):\n",
    "        start_index = ii * num_std_tested\n",
    "        init_file_to_search = cmaes_log[start_index]['settings']['init_file']\n",
    "        print(init_file_to_search)\n",
    "        init_files.append(init_file_to_search)\n",
    "        for j in range(num_std_tested):\n",
    "            cmaes_errors = []\n",
    "            run_time = []\n",
    "            sigma = cmaes_log[start_index+j]['settings']['sigma0']\n",
    "            for i in range(40*num_std_tested):\n",
    "                if cmaes_log[i]['settings']['init_file'] == init_file_to_search and sigma == cmaes_log[i]['settings']['sigma0'] :\n",
    "                    errors = -torch.sqrt(cmaes_log[i]['fit_history']['error'])\n",
    "                    run_time.append(cmaes_log[i]['overall_runtime'])\n",
    "                    cmaes_errors.append(errors)\n",
    "            cmaes_errors = torch.cat(cmaes_errors, dim = 0).mean(-1)\n",
    "            run_time = torch.cat(run_time, dim = 0).mean(-1)\n",
    "            all_std_errors[ii].append(cmaes_errors)\n",
    "            runtime_CMA[ii].append(run_time.numpy())\n",
    "print(all_std_errors[0][0].shape)"
   ]
  },
  {
   "cell_type": "markdown",
   "id": "0c18695a",
   "metadata": {},
   "source": [
    "# PSO"
   ]
  },
  {
   "cell_type": "code",
   "execution_count": null,
   "id": "c41dd922",
   "metadata": {
    "collapsed": true
   },
   "outputs": [],
   "source": [
    "global_search_path_PSO = '../Data/HH/search_tests/PSO/'\n",
    "PSO_paths = [\n",
    "    'cube10000_0-20targets_blw0.15_mn0.0_chunk25_100rds_w0.5_c1.5_c0.25_0_PSO',\n",
    "    'cube10000_1-20targets_blw0.15_mn0.0_chunk25_100rds_w0.5_c1.5_c0.5_0_PSO',\n",
    "]\n",
    "\n",
    "target_indices = [i for i in range(0,20)]\n",
    "search_logs = [get_log(global_search_path_PSO, PSO_paths[i]) for i in range(len(PSO_paths))]\n",
    "errors = [-torch.sqrt(search_logs[i][0]['fit_history']['error'][target_indices].mean(-1)).numpy() for i in range(len(PSO_paths))]\n",
    "runtime_PSO = [search_logs[i][0]['overall_runtime'].squeeze().numpy() for i in range(len(PSO_paths))]\n",
    "best_PSO_mean_errors = [errors[i].mean(1, keepdims = True).mean(0, keepdims = True) for i in range(len(PSO_paths))]\n",
    "best_PSO_std_errors = [[(best_PSO_mean_errors[i]-errors[i].std(1).mean(0)).squeeze(),\n",
    "                      (best_PSO_mean_errors[i]+errors[i].std(1).mean(0)).squeeze()] for i in range(len(PSO_paths))]\n",
    "print(search_logs[0][0]['fit_history']['error'].shape[1], search_logs[0][0]['fit_history']['error'].shape[1])"
   ]
  },
  {
   "cell_type": "markdown",
   "id": "5fc7cce7",
   "metadata": {},
   "source": [
    "# Random Search-based algorithms"
   ]
  },
  {
   "cell_type": "code",
   "execution_count": null,
   "id": "e1fdf64d",
   "metadata": {},
   "outputs": [],
   "source": [
    "sub_dir =  '../Data/HH/search_tests/simple/'\n",
    "\n",
    "final_files = [\n",
    "    [\n",
    "        ['cube10000_0-20targets_sphere_w0.0_bldsphere_blw0.125_chunk25_100rds_0dim_5LD_pure', 0],\n",
    "\t\t['cube10000_0-20targets_sphere_w0.0_bldsphere_blw0.125_chunk25_100rds_0dim_5LD_SA', 1],\n",
    "\t\t['cube10000_0-20targets_sphere_w0.13_bldsphere_blw0.0_chunk25_100rds_10dim_5LD_pure_AE', 2],\n",
    "\t\t['cube10000_0-20targets_sphere_w0.2_bldsphere_blw0.0_chunk25_100rds_9dim_5LD_pure_PCA', 3],\n",
    "\t\t['cube10000_0-20targets_sphere_w0.2_bldsphere_blw0.0_chunk25_100rds_10dim_5LD_SA_AE', 4],\n",
    "\t\t['cube10000_0-20targets_sphere_w0.16_bldsphere_blw0.0_chunk25_100rds_8dim_5LD_SA_PCA', 5],\n",
    "    ],[\n",
    "        ['cube10000_1-20targets_sphere_w0.0_bldsphere_blw0.1_chunk25_100rds_0dim_5LD_pure', 0],\n",
    "\t\t['cube10000_1-20targets_sphere_w0.0_bldsphere_blw0.1_chunk25_100rds_0dim_5LD_SA', 1],\n",
    "\t\t['cube10000_1-20targets_sphere_w0.16_bldsphere_blw0.0_chunk25_100rds_9dim_5LD_pure_AE', 2],\n",
    "\t\t['cube10000_1-20targets_sphere_w0.2_bldsphere_blw0.0_chunk25_100rds_10dim_5LD_pure_PCA', 3],\n",
    "\t\t['cube10000_1-20targets_sphere_w0.12_bldsphere_blw0.0_chunk25_100rds_9dim_5LD_SA_AE', 4],\n",
    "\t\t['cube10000_1-20targets_sphere_w0.14_bldsphere_blw0.0_chunk25_100rds_9dim_5LD_SA_PCA', 5],\n",
    "    ]\n",
    "]\n",
    "target_indices = [i for i in range(20)]\n",
    "results = []\n",
    "runtime_RS = []\n",
    "global_search_path = sub_dir\n",
    "random_search_paths = final_files[:4]\n",
    "for ii in range(len(random_search_paths)):\n",
    "    if random_search_paths[ii] is None:\n",
    "        results.append(None)\n",
    "        continue\n",
    "    other_error = [None for _ in range(6)]\n",
    "    best_other_error = [None for _ in range(6)]\n",
    "    best_other_std_errors = [None for _ in range(6)]\n",
    "    rt = [None for _ in range(6)]\n",
    "    for j, path in enumerate(random_search_paths[ii]):\n",
    "        file_er = get_log(global_search_path, path[0])\n",
    "        try:\n",
    "            err = -torch.sqrt(file_er[path[1]]['fit_history']['error'][target_indices][:,:,:,:].mean(-1)).numpy()\n",
    "            rt[path[1]] = file_er[path[1]]['overall_runtime'].squeeze().numpy()\n",
    "            other_error[path[1]] = err\n",
    "            mean_err = err.mean(1, keepdims = True).mean(0, keepdims = True)\n",
    "            best_other_error[path[1]] = mean_err\n",
    "            best_other_std_errors[path[1]] = [(mean_err-err.std(1).mean(0)).squeeze(),\n",
    "                              (mean_err+err.std(1).mean(0)).squeeze()]\n",
    "        except:\n",
    "            pass\n",
    "    results.append([best_other_error, best_other_std_errors])\n",
    "    runtime_RS.append(rt)"
   ]
  },
  {
   "cell_type": "markdown",
   "id": "3b452673",
   "metadata": {},
   "source": [
    "# Plot convergence"
   ]
  },
  {
   "cell_type": "code",
   "execution_count": null,
   "id": "3e25b7f5",
   "metadata": {},
   "outputs": [],
   "source": [
    "start = 0\n",
    "titles = ['Trial 1', 'Trial 2']\n",
    "loss_fn = 'correlation'\n",
    "initial_samp = [10000, 10000]\n",
    "num_rounds = 100\n",
    "hide_pure = True\n",
    "lim = num_rounds-start+1\n",
    "labels = ['RS','SA','RS AE', 'RS PCA', 'SA AE', 'SA PCA']\n",
    "cmae_stds = [0,0]\n",
    "markers = [f'-r',f'--r','-C7',f'--C7',None,None]\n",
    "ncol = 2\n",
    "f = plt.figure(figsize=(24, 8* (len(results)//ncol +1)))\n",
    "for i in range(len(results)):\n",
    "    ax = plt.subplot(len(results)//ncol +1,ncol,i+1)\n",
    "    cmae_std = cmae_stds[i]\n",
    "    cmae_num = i\n",
    "    if results[i] is not None:\n",
    "        best_other_error = results[i][0]\n",
    "        best_other_std_errors = results[i][1]\n",
    "        color_num = 0\n",
    "        for ii in range(0,2):\n",
    "            lim = num_rounds-start+1\n",
    "            samples = [initial_samp[i]+25*j for j in range(num_rounds+1)]\n",
    "            plt.plot(samples,-best_other_error[ii][:,:,:lim].squeeze(), f'-C{color_num}', label = f\"{labels[ii]}\")\n",
    "            color_num+=1\n",
    "    try:\n",
    "        samples = [initial_samp[i]+ 25*j for j in range(num_rounds+1)]\n",
    "        plt.plot(samples,-best_PSO_mean_errors[i][:,:,:lim].squeeze(), '-k', label = f\"PSO\")\n",
    "        plt.plot([initial_samp[i]+25*j for j in range(num_rounds+1)],-all_std_errors[cmae_num][0][:].mean(1).mean(0).numpy(),'-C7', label = f'CMA-ES')\n",
    "    except:\n",
    "        pass\n",
    "    if results[i] is not None:\n",
    "        best_other_error = results[i][0]\n",
    "        best_other_std_errors = results[i][1]\n",
    "        for ii in range(2,6):\n",
    "            lim = num_rounds-start+1\n",
    "            samples = [initial_samp[i]+25*j for j in range(num_rounds+1)]\n",
    "            plt.plot(samples,-best_other_error[ii][:,:,:lim].squeeze(), f'-C{color_num}', label = f\"{labels[ii]}\")\n",
    "            color_num+=1\n",
    "    plt.xlim([initial_samp[i], None])\n",
    "    plt.title(f'{titles[i]}')\n",
    "    plt.ylabel(f\"Averaged RMSE\")\n",
    "    plt.xlabel(\"Total samples taken\")\n",
    "    plt.legend(ncol = 2, prop = {'size':14})\n",
    "    plt.grid(linestyle = \"--\", linewidth = 0.5)\n",
    "#plt.suptitle(\"Visualizing the convergence across all targets\")\n",
    "plt.tight_layout()\n",
    "plt.show()"
   ]
  },
  {
   "cell_type": "markdown",
   "id": "72e942ec",
   "metadata": {},
   "source": [
    "# Plot run time"
   ]
  },
  {
   "cell_type": "code",
   "execution_count": null,
   "id": "ce9079f9",
   "metadata": {
    "scrolled": false
   },
   "outputs": [],
   "source": [
    "all_runtime_RS = [np.concatenate([runtime_RS[i][j].reshape((-1)) for i in range(2)]) for j in range(6)]\n",
    "all_runtime_PSO = np.concatenate([ensure_numpy(runtime_PSO[i]).reshape((-1)) for i in range(2)])\n",
    "all_runtime_CMA= np.concatenate([ensure_numpy(runtime_CMA[i][0]).reshape((-1)) for i in range(2)])\n",
    "fig = plt.figure(figsize=(16,10))\n",
    "for j in range(2):\n",
    "    ax = plt.subplot(2,4,j+1)\n",
    "    runt = ensure_numpy(all_runtime_RS[j]).reshape((-1))\n",
    "    lower_b = runt.mean()-2*runt.std()\n",
    "    upper_b = runt.mean()+2*runt.std()\n",
    "    plt.violinplot(runt,showmeans = True, showextrema = False)\n",
    "    plt.ylim([max(lower_b,runt.min()), min(upper_b,runt.max())])\n",
    "    plt.grid(linestyle = \"--\", linewidth = 0.5)\n",
    "    if j == 0:\n",
    "        plt.ylabel(f\"Runtime (s)\")\n",
    "    plt.title(f'{labels[j]}')\n",
    "ax = plt.subplot(2,4,3)\n",
    "lower_b = all_runtime_PSO.mean()-2*all_runtime_PSO.std()\n",
    "upper_b = all_runtime_PSO.mean()+2*all_runtime_PSO.std()\n",
    "plt.violinplot(all_runtime_PSO,showmeans = True, showextrema = False)\n",
    "plt.ylim([max(lower_b,all_runtime_PSO.min()), min(upper_b,all_runtime_PSO.max())])\n",
    "plt.grid(linestyle = \"--\", linewidth = 0.5)\n",
    "plt.title(f'PSO')\n",
    "ax = plt.subplot(2,4,4)\n",
    "lower_b = all_runtime_CMA.mean()-2*all_runtime_CMA.std()\n",
    "upper_b = all_runtime_CMA.mean()+2*all_runtime_CMA.std()\n",
    "plt.violinplot(all_runtime_CMA,showmeans = True, showextrema = False)\n",
    "plt.ylim([max(lower_b,all_runtime_CMA.min()), min(upper_b,all_runtime_CMA.max())])\n",
    "plt.grid(linestyle = \"--\", linewidth = 0.5)\n",
    "plt.title(f'CMA-ES')\n",
    "for j in range(2,6):\n",
    "    ax = plt.subplot(2,4,j+3)\n",
    "    runt = ensure_numpy(all_runtime_RS[j]).reshape((-1))\n",
    "    lower_b = runt.mean()-2*runt.std()\n",
    "    upper_b = runt.mean()+2*runt.std()\n",
    "    plt.violinplot(ensure_numpy(all_runtime_RS[j]).reshape((-1)),showmeans = True, showextrema = False)\n",
    "    if j == 2:\n",
    "        plt.ylabel(f\"Run time (s)\")\n",
    "    plt.title(f'{labels[j]}')\n",
    "    plt.ylim([max(lower_b,runt.min()), min(upper_b,runt.max())])\n",
    "    plt.grid(linestyle = \"--\", linewidth = 0.5)\n",
    "plt.tight_layout()\n",
    "plt.show()"
   ]
  }
 ],
 "metadata": {
  "kernelspec": {
   "display_name": "Python 3.10.1 64-bit",
   "language": "python",
   "name": "python3"
  },
  "language_info": {
   "codemirror_mode": {
    "name": "ipython",
    "version": 3
   },
   "file_extension": ".py",
   "mimetype": "text/x-python",
   "name": "python",
   "nbconvert_exporter": "python",
   "pygments_lexer": "ipython3",
   "version": "3.10.1"
  },
  "vscode": {
   "interpreter": {
    "hash": "16b3cb373ab163b43349ea32823e4187dc37f8a5f4a04aa5ed18ab49bf23b1de"
   }
  }
 },
 "nbformat": 4,
 "nbformat_minor": 5
}
