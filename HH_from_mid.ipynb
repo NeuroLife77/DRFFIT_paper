{
 "cells": [
  {
   "cell_type": "markdown",
   "id": "bd5212ba",
   "metadata": {},
   "source": [
    "## Grouping all the data for the test without initial global search\n",
    "The search is started from the middle of the search space because it is the expected value of the prior distribution which is defined as uniform over the parameter space $$E[U(\\theta_{min},\\theta_{max})] = \\frac{\\theta_{max}-\\theta_{min}}{2}$$"
   ]
  },
  {
   "cell_type": "markdown",
   "id": "78293c7c",
   "metadata": {},
   "source": [
    "### Imports & settings"
   ]
  },
  {
   "cell_type": "code",
   "execution_count": 1,
   "id": "41128c91",
   "metadata": {},
   "outputs": [],
   "source": [
    "import numpy as np\n",
    "import torch\n",
    "from matplotlib import pyplot as plt\n",
    "import matplotlib as mpl\n",
    "import pickle as pkl\n",
    "from lib.utils import *\n",
    "from copy import deepcopy as dcp\n",
    "from os import walk\n",
    "import shutil\n",
    "from lib.HH_model.parameters_info import parameter_names, parameters_lower_bound,parameters_range_bounds\n",
    "mpl.rcParams['font.size'] = 18\n",
    "mpl.rcParams['lines.linewidth'] = 2\n",
    "mpl.rcParams['figure.facecolor'] = 'w'"
   ]
  },
  {
   "cell_type": "markdown",
   "id": "5fef6ea6",
   "metadata": {},
   "source": [
    "### Loading the data from the CMA-ES search"
   ]
  },
  {
   "cell_type": "code",
   "execution_count": null,
   "id": "aa8e870c",
   "metadata": {},
   "outputs": [],
   "source": [
    "targets_file = 'trial_1'\n",
    "cma_p = '../Data/HH/from_mid/cmaes/'\n",
    "target_indices = [i for i in range(0,20)]\n",
    "num_std_tested = [1]\n",
    "results = [[None for _ in range(4)] for _ in range(1)]\n",
    "runtime_results = [[None for _ in range(4)] for _ in range(1)]\n",
    "init_files = []\n",
    "runtime_CMA = []\n",
    "all_std_errors = []\n",
    "cma_fs = ['cmaes_25chk_120rd_all_best_final25repeats']\n",
    "for iii, cma_f in enumerate(cma_fs):\n",
    "    cmaes_log = get_log(cma_p,cma_f)\n",
    "    for ii in range(num_std_tested[iii]):\n",
    "        cmaes_errors = []\n",
    "        run_time = []\n",
    "        for j in range(ii,20*num_std_tested[iii],num_std_tested[iii]):\n",
    "            errors = cmaes_log[j]['fit_history']['error']\n",
    "            run_time.append(cmaes_log[j]['overall_runtime'])\n",
    "            cmaes_errors.append(errors)\n",
    "        cmaes_errors = torch.cat(cmaes_errors, dim = 0).mean(-1).unsqueeze(0)\n",
    "        results[ii][3] = cmaes_errors\n",
    "        run_time = torch.cat(run_time, dim = 0).mean(-1)\n",
    "        runtime_results[ii][3] = run_time.unsqueeze(0)\n",
    "print(results[0][3].shape)\n",
    "print(runtime_results[0][3].shape)"
   ]
  },
  {
   "cell_type": "markdown",
   "id": "53b28c93",
   "metadata": {},
   "source": [
    "### Loading the data from the PSO search"
   ]
  },
  {
   "cell_type": "code",
   "execution_count": 4,
   "id": "3f7c5af2",
   "metadata": {},
   "outputs": [],
   "source": [
    "global_search_path_PSO ='../Data/HH/from_mid/PSO/'\n",
    "PSO_paths = [\n",
    "    'noinit-20targets_blw0.2_chunk25_120rds_w0.6_c2.0_c0.25_PSO',\n",
    "]\n",
    "search_logs = [get_log(global_search_path_PSO, PSO_paths[i]) for i in range(len(PSO_paths))]\n",
    "for i in range(len(PSO_paths)):\n",
    "    results[i][2] = search_logs[i][0]['fit_history']['error'][target_indices].mean(-1).unsqueeze(0)\n",
    "    runtime_results[i][2] = search_logs[i][0]['overall_runtime'].squeeze().unsqueeze(0)\n",
    "print(results[0][2].shape)\n",
    "print(runtime_results[0][2].shape)"
   ]
  },
  {
   "cell_type": "markdown",
   "id": "15e0c0b8",
   "metadata": {},
   "source": [
    "### Loading the data from the RS & SA searches"
   ]
  },
  {
   "cell_type": "code",
   "execution_count": 5,
   "id": "cbe2d591",
   "metadata": {},
   "outputs": [],
   "source": [
    "global_search_path ='../Data/HH/from_mid/simple/'\n",
    "final_files = [\n",
    "    [\n",
    "        ['noinit-20targets_blw0.1_chunk25_120rds_pure', 0],\n",
    "\t\t['noinit-20targets_blw0.1_chunk25_120rds_pure', 1],\n",
    "    ]\n",
    "]\n",
    "res_index = [0,1]\n",
    "random_search_paths = final_files\n",
    "for ii in range(len(random_search_paths)):\n",
    "    settings = [None for _ in range(6)]\n",
    "    for j, path in enumerate(random_search_paths[ii]):\n",
    "        file_er = get_log(global_search_path, path[0])\n",
    "        err = file_er[path[1]]['fit_history']['error'][target_indices][:,:,:121,:].mean(-1).unsqueeze(0)\n",
    "        settings[path[1]] = file_er[path[1]]['settings']\n",
    "        results[ii][res_index[path[1]]] = err\n",
    "        runtime_results[ii][res_index[path[1]]] = file_er[path[1]]['overall_runtime'].squeeze().unsqueeze(0)\n",
    "print(results[0][0].shape)\n",
    "print(runtime_results[0][0].shape)"
   ]
  },
  {
   "cell_type": "markdown",
   "id": "e20e4cc5",
   "metadata": {},
   "source": [
    "### Concatenating all the data"
   ]
  },
  {
   "cell_type": "code",
   "execution_count": null,
   "id": "7fa2d936",
   "metadata": {},
   "outputs": [],
   "source": [
    "results = torch.cat(results[0], dim = 0)\n",
    "print(results.shape)\n",
    "runtime_results = torch.cat(runtime_results[0], dim = 0)\n",
    "print(runtime_results.shape)"
   ]
  },
  {
   "cell_type": "markdown",
   "id": "7acc2d34",
   "metadata": {},
   "source": [
    "### Saving the file to be loaded in the HH_analyze_data.ipynb file"
   ]
  },
  {
   "cell_type": "code",
   "execution_count": null,
   "id": "1658eb27",
   "metadata": {},
   "outputs": [],
   "source": [
    "combined_data_path = \"../Data/\"\n",
    "results_log = {\n",
    "    'results': results,\n",
    "    'runtime': runtime_results\n",
    "}\n",
    "save_log(results_log, combined_data_path, 'HH_no_init')"
   ]
  }
 ],
 "metadata": {
  "kernelspec": {
   "display_name": "Python 3 (ipykernel)",
   "language": "python",
   "name": "python3"
  },
  "language_info": {
   "codemirror_mode": {
    "name": "ipython",
    "version": 3
   },
   "file_extension": ".py",
   "mimetype": "text/x-python",
   "name": "python",
   "nbconvert_exporter": "python",
   "pygments_lexer": "ipython3",
   "version": "3.10.1"
  },
  "vscode": {
   "interpreter": {
    "hash": "16b3cb373ab163b43349ea32823e4187dc37f8a5f4a04aa5ed18ab49bf23b1de"
   }
  }
 },
 "nbformat": 4,
 "nbformat_minor": 5
}
